{
 "cells": [
  {
   "cell_type": "markdown",
   "metadata": {},
   "source": [
    "## Løsningsforslag til Python intensivkurs ved USN Kongsberg\n",
    "Skrevet av Sirajuddin Asjad og Haytham Ali<br>\n",
    "SFIP1102 - Ingeniørrollen og prosjektarbeid - Revisjon 1.0"
   ]
  },
  {
   "cell_type": "markdown",
   "metadata": {},
   "source": [
    "### Oppgave 2.2.1)\n",
    "Hva blir ``2*3-4/2*2, (1-3)*(-3)/(2*2), 2*3**2/2, 1/2**3-4-8/2*4, 2**3-(4-8)/2*4``?"
   ]
  },
  {
   "cell_type": "code",
   "execution_count": null,
   "metadata": {},
   "outputs": [],
   "source": [
    "print(2 * (3-4) / 2 * 2)\n",
    "print((1-3) * (-3) / (2 * 2))\n",
    "print(2 * 3 ** (2/2))\n",
    "print((1/2) ** (3-4-8) / 2 * 4)\n",
    "print(2 ** 3- (4-8) / 2 * 4)"
   ]
  },
  {
   "cell_type": "markdown",
   "metadata": {},
   "source": [
    "### Oppgave 2.2.2)\n",
    "Regn ut arealet av en firkant med side a=3 og b=12."
   ]
  },
  {
   "cell_type": "code",
   "execution_count": null,
   "metadata": {
    "scrolled": true
   },
   "outputs": [],
   "source": [
    "a = 3\n",
    "b = 12\n",
    "areal = a * b \n",
    "print(areal)"
   ]
  },
  {
   "cell_type": "markdown",
   "metadata": {},
   "source": [
    "### Oppgave 2.2.3)\n",
    "Regn ut omkretsen av en firkant med side a=4 og b=5."
   ]
  },
  {
   "cell_type": "code",
   "execution_count": null,
   "metadata": {},
   "outputs": [],
   "source": [
    "a = 4\n",
    "b = 5\n",
    "omkrets = 2 * (a+b)\n",
    "print(omkrets)"
   ]
  },
  {
   "cell_type": "markdown",
   "metadata": {},
   "source": [
    "### Oppgave 2.2.4)\n",
    "Løs 3x - 2 = 13"
   ]
  },
  {
   "cell_type": "code",
   "execution_count": null,
   "metadata": {},
   "outputs": [],
   "source": [
    "x = (13+2) / 3\n",
    "print(x)"
   ]
  },
  {
   "cell_type": "markdown",
   "metadata": {},
   "source": [
    "### Oppgave 2.2.5)\n",
    "Regn ut omkretsen av en sirkel med radius 3. (Hva er radius? Og pi? Diskuter med sidemannen.)"
   ]
  },
  {
   "cell_type": "code",
   "execution_count": null,
   "metadata": {},
   "outputs": [],
   "source": [
    "import math\n",
    "r = 3\n",
    "c = 2 * math.pi * r \n",
    "print(c)"
   ]
  },
  {
   "cell_type": "markdown",
   "metadata": {},
   "source": [
    "### Oppgave 2.3.1)\n",
    "Du har to tekstvariabler, a = '7.3' og b = '30.1'. Bruk korrekt omgjøring av datatyper og finn så differansen (den ene minus den andre), summen og produktet (den ene ganget med den andre)."
   ]
  },
  {
   "cell_type": "code",
   "execution_count": null,
   "metadata": {},
   "outputs": [],
   "source": [
    "a = '7.3'\n",
    "b = '30.1'\n",
    "\n",
    "a = float(a)\n",
    "b = float(b)\n",
    "\n",
    "differanse = a - b \n",
    "summ = a + b\n",
    "produkt = a * b\n",
    "\n",
    "print(differanse)\n",
    "print(summ)\n",
    "print(produkt)"
   ]
  },
  {
   "cell_type": "markdown",
   "metadata": {},
   "source": [
    "### Oppgave 2.3.2)\n",
    "Du har c = '7.345'. Er det mulig å runde av tallet til to desimaler på bare en linje?"
   ]
  },
  {
   "cell_type": "code",
   "execution_count": null,
   "metadata": {},
   "outputs": [],
   "source": [
    "c = '7.345'\n",
    "resultat = round(float(c), 2)\n",
    "print(resultat)"
   ]
  },
  {
   "cell_type": "markdown",
   "metadata": {},
   "source": [
    "### Oppgave 2.3.3)\n",
    "Du har en variabel a = 3.14 og b = \"Pi er \". Lag en tekststreng c som kombinerer a og b og gir verdien \"Pi er 3.14\"."
   ]
  },
  {
   "cell_type": "code",
   "execution_count": null,
   "metadata": {},
   "outputs": [],
   "source": [
    "a = 3.14\n",
    "b = \"Pi er \"\n",
    "c = b + str(a)\n",
    "print(c)"
   ]
  },
  {
   "cell_type": "markdown",
   "metadata": {},
   "source": [
    "### Oppgave 2.4.1)\n",
    "En rett vinkel er 90 grader. Finn sin og cos til en rett vinkel."
   ]
  },
  {
   "cell_type": "code",
   "execution_count": null,
   "metadata": {},
   "outputs": [],
   "source": [
    "import math\n",
    "grader = 90\n",
    "radian_verdi = math.radians(grader)\n",
    "print(math.sin(radian_verdi)) \n",
    "print(math.cos(radian_verdi))"
   ]
  },
  {
   "cell_type": "markdown",
   "metadata": {},
   "source": [
    "### Oppgave 2.4.2)\n",
    "Finn et tilfeldig desimaltall mellom 0 og 1, mellom -5 og 5, mellom -2 og 18."
   ]
  },
  {
   "cell_type": "code",
   "execution_count": null,
   "metadata": {},
   "outputs": [],
   "source": [
    "import random\n",
    "print(random.random())\n",
    "print(random.uniform(-5,5))\n",
    "print(random.uniform(-2,18))"
   ]
  },
  {
   "cell_type": "markdown",
   "metadata": {},
   "source": [
    "### Oppgave 2.4.3)\n",
    "Finn et tilfeldig heltall mellom 0 og 9, mellom -5 og 5, mellom -2 og 18. Grensene skal være med."
   ]
  },
  {
   "cell_type": "code",
   "execution_count": null,
   "metadata": {},
   "outputs": [],
   "source": [
    "import random\n",
    "print(random.randint(0,9))\n",
    "print(random.randint(-5,5))\n",
    "print(random.randint(-2,18))"
   ]
  },
  {
   "cell_type": "markdown",
   "metadata": {},
   "source": [
    "### Oppgave 2.4.4)\n",
    "Finn cos og sin til 35 grader. Regn også ut kvadratet av sin og av cos, og ta summen."
   ]
  },
  {
   "cell_type": "code",
   "execution_count": null,
   "metadata": {},
   "outputs": [],
   "source": [
    "import math\n",
    "grader = 35\n",
    "radian_verdi = math.radians(grader)\n",
    "sin_verdi = math.sin(grader)\n",
    "cos_verdi = math.cos(grader)\n",
    "sin_opphoyd = sin_verdi**2\n",
    "cos_opphoyd = cos_verdi**2\n",
    "print(sin_opphoyd + cos_opphoyd)"
   ]
  },
  {
   "cell_type": "markdown",
   "metadata": {},
   "source": [
    "### Oppgave 2.4.5)\n",
    "Finn cos og sin til 2.3 radianer."
   ]
  },
  {
   "cell_type": "code",
   "execution_count": null,
   "metadata": {},
   "outputs": [],
   "source": [
    "import math\n",
    "print(math.cos(math.radians(2.3)))"
   ]
  },
  {
   "cell_type": "markdown",
   "metadata": {},
   "source": [
    "### Oppgave 2.4.6)\n",
    "Finn kvadratroten av 256."
   ]
  },
  {
   "cell_type": "code",
   "execution_count": null,
   "metadata": {},
   "outputs": [],
   "source": [
    "import math\n",
    "print(math.sqrt(256))"
   ]
  },
  {
   "cell_type": "markdown",
   "metadata": {},
   "source": [
    "### Oppgave 2.5.1)\n",
    "Be om et tall med input(). Gjør den innleste verdien om til float, og finn til slutt kvadratroten og multipliser med pi."
   ]
  },
  {
   "cell_type": "code",
   "execution_count": null,
   "metadata": {},
   "outputs": [],
   "source": [
    "import math\n",
    "verdi = input(\"Skriv et tilfeldig tall\\n\")\n",
    "float_verdi = float(verdi)\n",
    "b = 3.14\n",
    "print(math.sqrt(float_verdi) * math.pi)"
   ]
  },
  {
   "cell_type": "markdown",
   "metadata": {},
   "source": [
    "### Oppgave 2.6.1)\n",
    "Lag et program som leser inn fornavn, etternavn og alder i passende variabler. Omtrentlig fødselsår skal så regnes ut, og når du fyller 50 år. Skriv til slutt ut alle opplysningene."
   ]
  },
  {
   "cell_type": "code",
   "execution_count": null,
   "metadata": {},
   "outputs": [],
   "source": [
    "fornavn = input(\"Hva er fornavnet ditt? \")\n",
    "etternavn = input(\"Hva er etternavnet ditt? \")\n",
    "alder = input(\"Hvor gammel er du? \")\n",
    "aarstall = 2019\n",
    "\n",
    "cirka_bursdag = aarstall - int(alder)\n",
    "print(\"Du ble født i %s\" % cirka_bursdag)\n",
    "\n",
    "if int(alder) < 50:\n",
    "    antall = 50 - int(alder)\n",
    "    print(\"Du har %s år igjen før du blir 50 år gammel.\" % antall)\n",
    "elif int(alder) > 50:\n",
    "    print(\"Du er allerede over 50 år gammel.\")\n",
    "    print(\"Ditt navn er %s %s, du er %s år gammel og du ble født i %s.\" % (fornavn, etternavn, alder, cirka_bursdag))"
   ]
  },
  {
   "cell_type": "markdown",
   "metadata": {},
   "source": [
    "### Oppgave 2.6.2)\n",
    "Lag et program som leser inn navnet ditt, og så finner et tilfeldig tall mellom 15 og 35, og påstår at det er alderen din."
   ]
  },
  {
   "cell_type": "code",
   "execution_count": null,
   "metadata": {},
   "outputs": [],
   "source": [
    "import random\n",
    "navn = input(\"Hva er navnet ditt? \")\n",
    "random_alder = random.randint(15, 35)\n",
    "print(\"Ditt navn er\", navn, \"og du er\", random_alder, \"år gammel.\")"
   ]
  },
  {
   "cell_type": "markdown",
   "metadata": {},
   "source": [
    "### Oppgave 2.7.1)\n",
    "Lag et program som leser inn tre tall, gjør de om til float, så sjekker hvilket av de tre som er størst og skriver til skjerm om det var det første, andre eller tredje som ble skrevet inn."
   ]
  },
  {
   "cell_type": "code",
   "execution_count": null,
   "metadata": {},
   "outputs": [],
   "source": [
    "tall1 = float(input(\"Skriv tall 1: \"))\n",
    "tall2 = float(input(\"Skriv tall 2: \"))\n",
    "tall3 = float(input(\"Skriv tall 3: \"))\n",
    "maxverdi = max(tall1, tall2, tall3)\n",
    "\n",
    "if maxverdi == tall1:\n",
    "    vinner = \"tall1\"\n",
    "elif maxverdi == tall2:\n",
    "    vinner = \"tall2\"\n",
    "elif maxverdi == tall3:\n",
    "    vinner = \"tall3\"\n",
    "\n",
    "print(\"Vinneren er\", vinner, \"med verdien\", maxverdi)"
   ]
  },
  {
   "cell_type": "markdown",
   "metadata": {},
   "source": [
    "### Oppgave 2.7.2)\n",
    "Lag et program som finner et tilfeldig tall mellom 1 og 10 (grenser inkludert), og så ber deg gjette tallet. Programmet sier til slutt ifrå om du gjettet for høyt, for lavt eller riktig."
   ]
  },
  {
   "cell_type": "code",
   "execution_count": null,
   "metadata": {},
   "outputs": [],
   "source": [
    "import random\n",
    "random_tall = random.randint(0,10)\n",
    "verdi = int(input(\"Gjett et tall mellom 0 og 10: \"))\n",
    "\n",
    "if verdi > random_tall:\n",
    "    print(\"Du gjettet for høyt.\")\n",
    "elif verdi < random_tall:\n",
    "    print(\"Du gjettet for lavt.\")\n",
    "else:\n",
    "    print(\"Du gjettet riktig.\")"
   ]
  },
  {
   "cell_type": "markdown",
   "metadata": {},
   "source": [
    "### Oppgave 2.7.3)\n",
    "Lag et program som simulerer tre terningkast og skriver ut hvor mange like det ble (3 like, 2 like eller ingen like)."
   ]
  },
  {
   "cell_type": "code",
   "execution_count": null,
   "metadata": {},
   "outputs": [],
   "source": [
    "import random\n",
    "kast1 = random.randint(1, 6)\n",
    "kast2 = random.randint(1, 6)\n",
    "kast3 = random.randint(1,6)\n",
    "\n",
    "if kast1 == kast2 == kast3:\n",
    "    print(\"Alle kastene er like!\")\n",
    "elif tall1 == tall2 or tall1 == tall3 or tall2 == tall3:\n",
    "    print(\"To terningkast er like!\")\n",
    "else:\n",
    "    print(\"Ingen terningkast er like!\")"
   ]
  },
  {
   "cell_type": "markdown",
   "metadata": {},
   "source": [
    "### Oppgave 2.7.4)\n",
    "Lag et program som plukker to tall, x og y, mellom f.eks 10 og 100. Brukeren blir så spurt om å svare på følgende regnestykker, x+y, x-y, x*y (etc?). For hvert regnestykke kontrollerer programmet svaret og skriver en kommentar."
   ]
  },
  {
   "cell_type": "code",
   "execution_count": null,
   "metadata": {},
   "outputs": [],
   "source": [
    "min_verdi = 10\n",
    "max_verdi = 100\n",
    "x = random.randint(min_verdi, max_verdi)\n",
    "y = random.randint(min_verdi, max_verdi)\n",
    "\n",
    "def sjekk_svar(svar, verdi):\n",
    "    if svar == verdi:\n",
    "        print(\"Bra jobba! Du har svart riktig!\")\n",
    "    else:\n",
    "        print(\"Svaret ditt er feil. Riktig svar er\", verdi)\n",
    "\n",
    "print(\"Svar på følgende beregninger:\")\n",
    "opg = str(x) + \"+\" + str(y)\n",
    "verdi = eval(opg)\n",
    "svar = input(\"Hva er \" + opg + \"? \")\n",
    "sjekk_svar(int(svar), verdi)\n",
    "\n",
    "opg = str(x) + \"-\" + str(y)\n",
    "verdi = eval(opg)\n",
    "svar = input(\"Hva er \" + opg + \"? \")\n",
    "sjekk_svar(int(svar), verdi)\n",
    "\n",
    "opg = str(x) + \"*\" + str(y)\n",
    "verdi = eval(opg)\n",
    "svar = input(\"Hva er \" + opg + \"? \")\n",
    "sjekk_svar(int(svar), verdi)"
   ]
  },
  {
   "cell_type": "markdown",
   "metadata": {},
   "source": [
    "### Oppgave 2.8.1)\n",
    "Lag et program som leser inn tre navn og legger de i en liste, sorterer listen alfabetisk og skriver den sortert ut til skjerm, navn for navn."
   ]
  },
  {
   "cell_type": "code",
   "execution_count": null,
   "metadata": {},
   "outputs": [],
   "source": [
    "navn1 = input(\"Skriv inn navn 1: \")\n",
    "navn2 = input(\"Skriv inn navn 2: \")\n",
    "navn3 = input(\"Skriv inn navn 3: \")\n",
    "names = [navn1, navn2, navn3]\n",
    "names.sort()\n",
    "\n",
    "print(\"Sorterte navn: \")\n",
    "for name in names:\n",
    "    print(name)"
   ]
  },
  {
   "cell_type": "markdown",
   "metadata": {},
   "source": [
    "### Oppgave 2.8.2)\n",
    "Som ovenfor, men nå skal det sorteres motsatt vei."
   ]
  },
  {
   "cell_type": "code",
   "execution_count": null,
   "metadata": {},
   "outputs": [],
   "source": [
    "navn1 = input(\"Skriv inn navn 1: \")\n",
    "navn2 = input(\"Skriv inn navn 2: \")\n",
    "navn3 = input(\"Skriv inn navn 3: \")\n",
    "names = [navn1, navn2, navn3]\n",
    "names.reverse()\n",
    "\n",
    "print(\"Sorterte navn: \")\n",
    "for name in names:\n",
    "    print(name)"
   ]
  },
  {
   "cell_type": "markdown",
   "metadata": {},
   "source": [
    "### Oppgave 2.8.3)\n",
    "Lag ved hjelp av range() følgende lister: [0,1,2,3,4,5,6,7,8,9], [0,2,4,6], [2,4,6], [5,8,11,14,17]"
   ]
  },
  {
   "cell_type": "code",
   "execution_count": null,
   "metadata": {},
   "outputs": [],
   "source": [
    "print(list(range(0, 10)))\n",
    "print(list(range(0,7,2)))\n",
    "print(list(range(2,7,2)))\n",
    "print(list(range(5,18,3)))"
   ]
  },
  {
   "cell_type": "markdown",
   "metadata": {},
   "source": [
    "### Oppgave 2.8.4)\n",
    "Fjern element med indeks 3 fra listen lst1 = [0,1,2,3,4,5]. Fjern så elementet med verdi 2. Stikk så inn i listen et element 5 slik at det får indeks 2. Still så inn i listen et element 'fire' slik at det får indeks 2. Finn så hvilken indeks elementet 5 har. (NB: du har to like elementer i listen. Forstå hva funksjonen returnerer.) Fjern så elementet 5 fra listen. (Igjen, du har to elementer med verdi 5. Se hvilken som fjernes.)"
   ]
  },
  {
   "cell_type": "code",
   "execution_count": null,
   "metadata": {},
   "outputs": [],
   "source": [
    "lst1 = [0,1,2,3,4,5]\n",
    "lst1.pop(3) # Fjern element med index 3\n",
    "lst1.remove(2) # Fjern element med verdi 2\n",
    "lst1.insert(2, 5) # Sett inn element 5 i index 2\n",
    "lst1.index(5) # Viser index til element 5\n",
    "\n",
    "forste_index = lst1.index(5)\n",
    "andre_index = lst1[forste_index+1:].index(5) + forste_index+1\n",
    "\n",
    "print(forste_index)\n",
    "print(andre_index)"
   ]
  },
  {
   "cell_type": "markdown",
   "metadata": {},
   "source": [
    "### Oppgave 2.8.5)\n",
    "Du har lst2 = [11,22,33,44,55,66,77]. Lag en ny liste som inneholder de tre midterste elementene. (Det kan gjøres på mange måter. Hva er den raskeste?)"
   ]
  },
  {
   "cell_type": "code",
   "execution_count": null,
   "metadata": {},
   "outputs": [],
   "source": [
    "# Raskeste metoden:\n",
    "lst2 = [11,22,33,44,55,66,77]\n",
    "lengde = 3\n",
    "beggesider_lengde = len(lst2) - lengde\n",
    "side_lengde = int(beggesider_lengde / 2)\n",
    "svar = lst2[side_lengde : -side_lengde]\n",
    "print(svar)\n",
    "\n",
    "# Annen metode:\n",
    "for counter in range(side_lengde):\n",
    "    lst2.pop(0) # Popper første verdi\n",
    "    lst2.pop(-1) # Popper siste verdi\n",
    "print(lst2)"
   ]
  },
  {
   "cell_type": "markdown",
   "metadata": {},
   "source": [
    "### Oppgave 2.9.1)\n",
    "Hva om du brukte range(1,101) i for-linja. Hva ville endret seg? (Noen ganger bruker du tellevariabelen (iterasjonsvariabelen) inne i løkka, andre ganger er den ikke i bruk til annet enn å telle f.eks 100 ganger.)"
   ]
  },
  {
   "cell_type": "code",
   "execution_count": null,
   "metadata": {},
   "outputs": [],
   "source": [
    "# Da hadde vi endret kast nummeret i print fra (kast+1) til (kast). \n",
    "# Tallet vil ikke endre siden det har samme lengde som range(100), men hvis man printer ut\n",
    "# iteration verdien så vil den gå fra 1 til 100 istedenfor 0 til 99."
   ]
  },
  {
   "cell_type": "markdown",
   "metadata": {},
   "source": [
    "### Oppgave 2.9.2)\n",
    "Tell også opp antall ganger terningen ga 1, 2, 3 og 4, og skriv ut. Forsikre deg også om at det hele summerer til 100, skriv evt. ut feilmelding."
   ]
  },
  {
   "cell_type": "code",
   "execution_count": null,
   "metadata": {},
   "outputs": [],
   "source": [
    "import random\n",
    "n1 = 0 # Antall enere\n",
    "n2 = 0 # Antall toere\n",
    "n3 = 0 # Antall treere\n",
    "n4 = 0 # Antall firere\n",
    "n5 = 0 # Antall femmere\n",
    "n6 = 0 # Antall seksere\n",
    "\n",
    "counter = 0\n",
    "for kast in range(100):\n",
    "    counter = counter + 1\n",
    "    tall = random.randint(1,6)\n",
    "    print(\"Kast nr\", kast+1, \"ble\", tall)\n",
    "    if tall == 1:\n",
    "        n1 = n1 + 1\n",
    "    elif tall == 2:\n",
    "        n2 = n2 + 1\n",
    "    elif tall == 3:\n",
    "        n3 = n4 + 1\n",
    "    elif tall == 4:\n",
    "        n4 = n4 + 1\n",
    "    elif tall == 5:\n",
    "        n5 = n5 + 1\n",
    "    elif tall == 6:\n",
    "        n6 = n6 + 1\n",
    "    else:\n",
    "        raise ValueError(\"Verdien er utenfor terning rekkevidde.\")\n",
    "\n",
    "print(\"Antall enere:\", n1, \"og antall toere:\", n2, \"og antall treere:\", n3, \"og antall firere:\", n4)\n",
    "print(\"Det ble totalt\", n6, \"seksere og\", n5, \"femmere.\")\n",
    "print(\"Counter:\", counter)"
   ]
  },
  {
   "cell_type": "markdown",
   "metadata": {},
   "source": [
    "### Oppgave 2.9.3)\n",
    "Som ovenfor, men i stedet for å bruke variablene n1, n2, ..., n6, bruk heller en liste antall som er initialisert slik: antall = [0,0,0,0,0,0]. NB: antall[0] vil da typisk innholde antall 1-ere. NB: Kan du nå forenkle testingen? Bruke bare én test-linje i stedet for seks?"
   ]
  },
  {
   "cell_type": "code",
   "execution_count": null,
   "metadata": {},
   "outputs": [],
   "source": [
    "import random\n",
    "liste = [0,0,0,0,0,0]\n",
    "counter = 0\n",
    "\n",
    "for kast in range(100):\n",
    "    counter = counter + 1\n",
    "    tall = random.randint(1,6)\n",
    "    print(\"Kast nr\", kast+1, \"ble\", tall)\n",
    "    if tall == 1:\n",
    "        liste[0] = liste[0] + 1\n",
    "    elif tall == 2:\n",
    "        liste[1] = liste[1] + 1\n",
    "    elif tall == 3:\n",
    "        liste[2] = liste[2] + 1\n",
    "    elif tall == 4:\n",
    "        liste[3] = liste[3] + 1\n",
    "    elif tall == 5:\n",
    "        liste[4] = liste[4] + 1\n",
    "    elif tall == 6:\n",
    "        liste[5] = liste[5] + 1\n",
    "    else:\n",
    "        raise ValueError(\"Verdien er utenfor terning rekkevidde.\")\n",
    "        \n",
    "print(\"Antall enere: \", liste[0], \"og antall toere:\", liste[1], \"og antall treere: \", liste[2], \"og antall firere: \", liste[3])\n",
    "print(\"Det ble totalt\", liste[4], \"seksere og\", liste[5], \"femmere.\")\n",
    "print(\"Counter:\", counter)"
   ]
  },
  {
   "cell_type": "markdown",
   "metadata": {},
   "source": [
    "### Oppgave 2.10.1)\n",
    "Lag et gangetabelltestingsprogram som først tar følgende input fra brukeren: ..."
   ]
  },
  {
   "cell_type": "code",
   "execution_count": null,
   "metadata": {},
   "outputs": [],
   "source": [
    "import random\n",
    "opg_antall = int(input(\"Hvor mange oppgaver ønsker du å gjøre? \"))\n",
    "poeng_antall = int(input(\"Hvor mange poeng vil du gi per oppgave? \"))\n",
    "minuspoeng_antall = int(input(\"Hvor mange poeng skal trekkes ved feil? \"))\n",
    "laveste_tall = int(input(\"Laveste tall fra gangetabellen: \"))\n",
    "hoyeste_tall = int(input(\"Høyeste tall fra gangetabellen: \"))\n",
    "print(\"Du får %s poeng for riktige svar og -%s for feil svar.\" % (poeng_antall, minuspoeng_antall))\n",
    "\n",
    "feil_antall = 0\n",
    "riktig_antall = 0\n",
    "opgnr = 0\n",
    "\n",
    "while True:\n",
    "    a = random.randint(laveste_tall, hoyeste_tall)\n",
    "    b = random.randint(laveste_tall, hoyeste_tall)\n",
    "    svar = a * b\n",
    "    print(\"Hva er %s * %s ?\" % (a, b))\n",
    "    bruker_svar = int(input(\"Hva er svaret? \"))\n",
    "\n",
    "    if svar == bruker_svar:\n",
    "        riktig_antall += 1\n",
    "        opgnr += 1\n",
    "    else:\n",
    "        feil_antall += 1 \n",
    "        \n",
    "    if opgnr == (opg_antall):\n",
    "        break\n",
    "\n",
    "total_poeng = (riktig_antall * poeng_antall) - (feil_antall * minuspoeng_antall)\n",
    "print(\"Du har prøvd %s ganger. Du har %s feil svar og %s riktige svar.\" % ((riktig_antall + feil_antall), feil_antall, riktig_antall))\n",
    "print(\"Totalt poengsum: %s\" % total_poeng)"
   ]
  },
  {
   "cell_type": "markdown",
   "metadata": {},
   "source": [
    "### Oppgave 2.10.2)\n",
    "For å gjøre det litt gøyere, kan du også legge til tidtaking. Samme oppgave som over."
   ]
  },
  {
   "cell_type": "code",
   "execution_count": null,
   "metadata": {},
   "outputs": [],
   "source": [
    "import random, time\n",
    "opg_antall = int(input(\"Hvor mange oppgaver ønsker du å gjøre? \"))\n",
    "poeng_antall = int(input(\"Hvor mange poeng vil du gi per oppgave? \"))\n",
    "minuspoeng_antall = int(input(\"Hvor mange poeng skal trekkes ved feil? \"))\n",
    "laveste_tall = int(input(\"Laveste tall fra gangetabellen: \"))\n",
    "hoyeste_tall = int(input(\"Høyeste tall fra gangetabellen: \"))\n",
    "print(\"Du får %s poeng for riktige svar og -%s for feil svar.\" % (poeng_antall, minuspoeng_antall))\n",
    "\n",
    "start_tid = time.time()\n",
    "feil_antall = 0\n",
    "riktig_antall = 0\n",
    "opgnr = 0\n",
    "\n",
    "while True:\n",
    "    a = random.randint(laveste_tall, hoyeste_tall)\n",
    "    b = random.randint(laveste_tall, hoyeste_tall)\n",
    "    svar = a * b\n",
    "    print(\"Hva er %s * %s ?\" % (a, b))\n",
    "    bruker_svar = int(input(\"Hva er svaret? \"))\n",
    "\n",
    "    if svar == bruker_svar:\n",
    "        riktig_antall += 1\n",
    "        opgnr += 1\n",
    "    else:\n",
    "        feil_antall += 1 \n",
    "        \n",
    "    if opgnr == (opg_antall):\n",
    "        break\n",
    "\n",
    "total_poeng = (riktig_antall * poeng_antall) - (feil_antall * minuspoeng_antall)\n",
    "print(\"Du har prøvd %s ganger. Du har %s feil svar og %s riktige svar.\" % ((riktig_antall + feil_antall), feil_antall, riktig_antall))\n",
    "print(\"Totalt poengsum: %s\" % total_poeng)\n",
    "\n",
    "slutt_tid = time.time()\n",
    "total_tid = slutt_tid - start_tid\n",
    "print(\"Du har brukt %s sekunder totalt.\" % total_tid)"
   ]
  },
  {
   "cell_type": "markdown",
   "metadata": {},
   "source": [
    "### Oppgave 2.10.3)\n",
    "Mulige utvidelser:<br>\n",
    "a) Legge til mulighet for addisjon, subtraksjon og/eller divisjon.<br>\n",
    "b) Legge til tidskrav per spørsmål. Rett svar på spørsmålet blir ikke godkjent hvis for lang tid er brukt."
   ]
  },
  {
   "cell_type": "code",
   "execution_count": null,
   "metadata": {},
   "outputs": [],
   "source": [
    "import random, time\n",
    "opg_antall = int(input(\"Hvor mange oppgaver ønsker du å gjøre? \"))\n",
    "tidskrav = int(input(\"Tidskrav per oppgave (i sekunder): \"))\n",
    "poeng_antall = int(input(\"Hvor mange poeng vil du gi per oppgave? \"))\n",
    "minuspoeng_antall = int(input(\"Hvor mange poeng skal trekkes ved feil? \"))\n",
    "laveste_tall = int(input(\"Laveste tall fra gangetabellen: \"))\n",
    "hoyeste_tall = int(input(\"Høyeste tall fra gangetabellen: \"))\n",
    "\n",
    "while True:    \n",
    "    operasjon = input(\"Hvilke operasjoner ønsker du å bruke? (Velg mellom: *, +, /, -) \")\n",
    "    if(operasjon is \"/\") or (operasjon is \"-\") or (operasjon is \"+\") or (operasjon is \"*\"):\n",
    "        break\n",
    "    else:\n",
    "        print(\"Operasjonen er ikke tillatt, vennligst velg noe annet.\")\n",
    "\n",
    "print(\"Du får %s poeng for riktige svar og -%s for feil svar.\" % (poeng_antall, minuspoeng_antall))\n",
    "\n",
    "start_tid = time.time()\n",
    "feil_antall = 0\n",
    "riktig_antall = 0\n",
    "opgnr = 0\n",
    "\n",
    "while True:\n",
    "    opg_start_tid = time.time()\n",
    "    a = random.randint(laveste_tall, hoyeste_tall)\n",
    "    b = random.randint(laveste_tall, hoyeste_tall)\n",
    "    operasjon_somString = (\"a %s b\" % operasjon)\n",
    "    svar = eval(operasjon_somString)\n",
    "    \n",
    "    print(\"Hva er %s %s %s ?\" % (a, operasjon, b))\n",
    "    bruker_svar = int(input(\"Hva er svaret? \"))\n",
    "    opg_slutt_tid = time.time()\n",
    "    tid_differanse = opg_slutt_tid - opg_start_tid\n",
    "\n",
    "    if svar == bruker_svar:\n",
    "        if tid_differanse > tidskrav:\n",
    "            print(\"Du klarte ikke tidskravet. Du får dessverre ikke poeng for denne oppgaven!\")\n",
    "            opgnr += 1\n",
    "        else:\n",
    "            riktig_antall += 1\n",
    "            opgnr += 1\n",
    "    else:\n",
    "        feil_antall += 1\n",
    "        \n",
    "    if opgnr == (opg_antall):\n",
    "        break\n",
    "\n",
    "total_poeng = (riktig_antall * poeng_antall) - (feil_antall * minuspoeng_antall)\n",
    "print(\"Du har prøvd %s ganger. Du har %s feil svar og %s riktige svar.\" % ((riktig_antall + feil_antall), feil_antall, riktig_antall))\n",
    "print(\"Totalt poengsum: %s\" % total_poeng)\n",
    "\n",
    "slutt_tid = time.time()\n",
    "total_tid = slutt_tid - start_tid\n",
    "print(\"Du har brukt %s sekunder totalt.\" % total_tid)"
   ]
  },
  {
   "cell_type": "markdown",
   "metadata": {},
   "source": [
    "### Oppgave 2.10.4)\n",
    "Sjekke (omtrentlig) om time.time() faktisk angir antall sekunder fra. 1.1.1970."
   ]
  },
  {
   "cell_type": "code",
   "execution_count": null,
   "metadata": {},
   "outputs": [],
   "source": [
    "import time\n",
    "gammeltid = (1970, 1, 1, 0, 0, 0, 0, 0, 0)\n",
    "gammeltid = time.mktime(gammeltid)\n",
    "nytid = time.time()\n",
    "print(nytid - gammeltid)"
   ]
  },
  {
   "cell_type": "markdown",
   "metadata": {},
   "source": [
    "### Oppgave 2.10.5)\n",
    "La Python tenke på et tilfeldig heltall mellom 1 og 100 (grenser inkludert). Lag så en løkke der du via input() gjetter på tallet til du har klart det. For hver gang du gjetter skal programmet si ifra om du gjetter for høyt eller for lavt. Når du gjetter riktig, avsluttes programmet og det skrives ut hvor mange forsøk du brukte."
   ]
  },
  {
   "cell_type": "code",
   "execution_count": null,
   "metadata": {},
   "outputs": [],
   "source": [
    "random_verdi = random.randint(1,100)\n",
    "antall = 0\n",
    "\n",
    "while True:\n",
    "    gjett_verdi = int(input(\"Gjett tallet: \"))\n",
    "    antall = antall + 1\n",
    "    \n",
    "    if random_verdi < gjett_verdi:\n",
    "        print(\"Tallet er for høyt. Gå lavere!\")\n",
    "    elif random_verdi > gjett_verdi:\n",
    "        print(\"Tallet er for lavt. Gå høyere!\")\n",
    "    elif random_verdi == gjett_verdi:\n",
    "        print(\"Riktig! Antall forsøk: %s\" % antall)\n",
    "        break"
   ]
  },
  {
   "cell_type": "markdown",
   "metadata": {},
   "source": [
    "### Oppgave 2.10.6)\n",
    "Som ovenfor, men la nå programmet gjette på tallet du tenker på.<br>\n",
    "NB: Løsning må fikses på!"
   ]
  },
  {
   "cell_type": "code",
   "execution_count": null,
   "metadata": {},
   "outputs": [],
   "source": [
    "mingrense = 1\n",
    "maxgrense = 100\n",
    "random_verdi = random.randint(mingrense, maxgrense)\n",
    "antall = 0\n",
    "gjett_verdi = int(input(\"Skriv inn tallet som skal gjettes på: \"))\n",
    "\n",
    "while True:\n",
    "    antall = antall + 1\n",
    "    print(\"Du gjettet på tallet %s.\" % gjett_verdi)\n",
    "\n",
    "    if random_verdi < gjett_verdi:\n",
    "        print(\"Tallet er for høyt. Gå lavere!\")\n",
    "        maxgrense = gjett_verdi\n",
    "    elif random_verdi > gjett_verdi:\n",
    "        print(\"Tallet er for lavt. Gå høyere!\")\n",
    "        mingrense = gjett_verdi\n",
    "    elif random_verdi == gjett_verdi:\n",
    "        print(\"Riktig! Antall forsøk: %s\" % antall)\n",
    "        break\n",
    "    \n",
    "    gjett_verdi = random.randint(mingrense, maxgrense)"
   ]
  },
  {
   "cell_type": "markdown",
   "metadata": {},
   "source": [
    "### Oppgave 2.11.1)\n",
    "Lag Trumps tvitre-funksjon. Den tar ingen argumenter, og la det i funksjonen tilfeldig velges mellom tre mulige utsagn. I programmet skal tvitre-funksjonen kalles 7 ganger. Prøv også å kalle funksjonen før den er definert. Og prøv å kalle funksjonen med et argument, f.eks. et tall. (Du skal få feilmeldinger.)"
   ]
  },
  {
   "cell_type": "code",
   "execution_count": null,
   "metadata": {},
   "outputs": [],
   "source": [
    "import random\n",
    "trumps_twitter() # Kaller på funksjonen altfor tidlig. Vil vise error.\n",
    "\n",
    "def trumps_twitter():\n",
    "    arg1 = \"første argument\"\n",
    "    arg2 = \"andre argument\"\n",
    "    arg3 = \"tredje argument\"\n",
    "    args = [arg1, arg2, arg3]\n",
    "    random_arg = random.choice(args)\n",
    "    return random_arg\n",
    "\n",
    "# Kaller funksjonen syv ganger\n",
    "print(trumps_twitter())\n",
    "print(trumps_twitter())\n",
    "print(trumps_twitter())\n",
    "print(trumps_twitter())\n",
    "print(trumps_twitter())\n",
    "print(trumps_twitter())\n",
    "print(trumps_twitter())\n",
    "\n",
    "# Kaller funksjonen med arguments (vil vise error)\n",
    "trumps_twitter(1)"
   ]
  },
  {
   "cell_type": "markdown",
   "metadata": {},
   "source": [
    "### Oppgave 2.11.2)\n",
    "Lag en funksjon som tar argumentene t, v0 og a (tid, startfart og akselerasjon). La både v0 og a ha default-verdi lik 0 mens t ikke har default-verdi. Funksjonen skal regne ut og returnere ``s = v0*t + 0.5*a * t**2``. Sett opp en for-loop slik at en tidsvariabel går fra 0, 0.5, 1, ..., 10 (sekunder). For hver t-verdi skal funksjonen kalles med v0=0 og g=9.81, og tid og strekning skal printes ut. (Hvor langt faller man på 10 sekunder?)"
   ]
  },
  {
   "cell_type": "code",
   "execution_count": null,
   "metadata": {},
   "outputs": [],
   "source": [
    "def distanse(t, v0 = 0, a = 0):\n",
    "    s = v0 * t + 0.5 * a * (t ** 2)\n",
    "    return s\n",
    "\n",
    "tidsliste = []\n",
    "\n",
    "for antall in range(21):\n",
    "    tidsliste.append(antall/2)\n",
    "\n",
    "g = 9.81\n",
    "for tidsverdi in tidsliste:\n",
    "    print(distanse(t = tidsverdi, a = g))"
   ]
  },
  {
   "cell_type": "markdown",
   "metadata": {},
   "source": [
    "### Oppgave 2.14.1)\n",
    "Legg til noen linjer i programmet ovenfor. Prøv deg litt frem med linje-for-linjedebugging. Prøv å gå gjennom loopen, og prøv å utføre den i et tastetrykk (Debug/Step Return). Og prøv breakpoint-debugging: sett noen breakpoints og forsikre deg om at du forstår."
   ]
  },
  {
   "cell_type": "code",
   "execution_count": null,
   "metadata": {},
   "outputs": [],
   "source": [
    "sko = ['Adidas','Puma','Nike']\n",
    "kopi = []\n",
    "for i in range(len(sko)):\n",
    "    print(i, sko[i])\n",
    "    kopi.append(sko[i])"
   ]
  },
  {
   "cell_type": "markdown",
   "metadata": {},
   "source": [
    "### Oppgave 2.16.1)\n",
    "Lag et program som trekker 10 tilfeldige desimaltall mellom -2000 og 2000 og skriver ut tallene med tre desimaler i en fin vertikal liste."
   ]
  },
  {
   "cell_type": "code",
   "execution_count": null,
   "metadata": {},
   "outputs": [],
   "source": [
    "import random\n",
    "for antall in range(10):\n",
    "    verdi = random.uniform(-2000,2000)\n",
    "    print(\"%s  %.3f\"%(antall+1, verdi))"
   ]
  },
  {
   "cell_type": "markdown",
   "metadata": {},
   "source": [
    "### Oppgave 2.16.2)\n",
    "Som ovenfor, men bruk nå scientific notasjon med 2 desimaler (eks: 1.25e+05)"
   ]
  },
  {
   "cell_type": "code",
   "execution_count": null,
   "metadata": {},
   "outputs": [],
   "source": [
    "for antall in range(10):\n",
    "    verdi = random.uniform(-2000,2000)\n",
    "    print(\"Verdien er %.2e\"%(verdi))"
   ]
  },
  {
   "cell_type": "markdown",
   "metadata": {},
   "source": [
    "### Oppgave 2.16.3)\n",
    "Lag et program som skriver ut navn, alder og fødselsmåned i fine kolonner. La navn være venstrejustert, og la fødselsmåned være høyrejustert."
   ]
  },
  {
   "cell_type": "code",
   "execution_count": null,
   "metadata": {},
   "outputs": [],
   "source": [
    "navn = ['Newton', 'Descartes', 'Euler']\n",
    "alder = [84, 53, 76],\n",
    "mnd = ['january', 'mars', 'april']  \n",
    "\n",
    "for antall in range(len(navn)):\n",
    "    print(\" %s | %s \"%(navn[antall], mnd[antall]))"
   ]
  },
  {
   "cell_type": "markdown",
   "metadata": {},
   "source": [
    "### Oppgave 2.17.1)\n",
    "Lag en tuple (3,6,77) og skriv ut første, andre og tredje element, dvs. 3, 6 og 77. Prøv å endre første elementet. (Du får feilmelding.)"
   ]
  },
  {
   "cell_type": "code",
   "execution_count": null,
   "metadata": {},
   "outputs": [],
   "source": [
    "a = (3,6,77)\n",
    "print(a[0])\n",
    "print(a[1])\n",
    "print(a[2])\n",
    "a[0] = 1 # Denne vil vise en error"
   ]
  },
  {
   "cell_type": "markdown",
   "metadata": {},
   "source": [
    "### Oppgave 2.17.2)\n",
    "Lag en tuple (’00’,’11’,’22’,’33’,’44’,’55’). Lag fra denne en ny tuple som har med elementene ’11’,’22’,’33’."
   ]
  },
  {
   "cell_type": "code",
   "execution_count": null,
   "metadata": {},
   "outputs": [],
   "source": [
    "a = (\"00\", \"11\", \"22\", \"33\", \"44\", \"55\")\n",
    "b = (\"11\", \"22\", \"33\")\n",
    "print(a + b)"
   ]
  },
  {
   "cell_type": "markdown",
   "metadata": {},
   "source": [
    "### Oppgave 2.17.3)\n",
    "Lag de 100 tuplene som kan lages av to siffer som begge er mellom 0 og 9, dvs. (0,0), (0,1), ..., (0,9), (1,0), (1,1), ..., (1,9), ..., (9,0), (9,1), .., (9,9) (Tips: Bruk to forløkker, den ene inni den andre.) Legg tuplene inn i en liste som du laget ved start."
   ]
  },
  {
   "cell_type": "code",
   "execution_count": null,
   "metadata": {},
   "outputs": [],
   "source": [
    "tuples = []\n",
    "for antall in range(100):\n",
    "    temp_tuple = ()\n",
    "    for antall in range(2):\n",
    "        verdi = random.randint(0,9)\n",
    "        temp_tuple = temp_tuple + (verdi, )\n",
    "    tuples.append(temp_tuple)\n",
    "print(tuples)"
   ]
  },
  {
   "cell_type": "markdown",
   "metadata": {},
   "source": [
    "### Oppgave 2.18.1)\n",
    "Lag et program som leser inn et par opplysninger fra tastaturet (navn, yrke etc.), skriver opplysningene til fil, og til slutt leser opplysningene fra filen og skriver de til skjerm. (Bruk gjerne skrivetilfil.py som filnavn.)"
   ]
  },
  {
   "cell_type": "code",
   "execution_count": null,
   "metadata": {},
   "outputs": [],
   "source": [
    "navn = input(\"Hva heter du? \")\n",
    "yrke = input(\"Hva jobber du som? \")\n",
    "tlf = input(\"Mobilnummer: \") \n",
    "info = [(\"navn = %s\" % navn), (\"yrke = %s\" % yrke), (\"tlf = %s\" % tlf)]\n",
    "\n",
    "# Skrive til fil:\n",
    "fil1 = open('oppg_skriverifil.txt', 'w') \n",
    "for verdi in info:\n",
    "    fil1.write(verdi+'\\n')\n",
    "fil1.close()\n",
    "\n",
    "# Lese fra fil:\n",
    "fil1 = open('oppg_skriverifil.txt', 'r') \n",
    "linjer = fil1.readlines()\n",
    "for linje in linjer:\n",
    "    print(linje)\n",
    "fil1.close()"
   ]
  },
  {
   "cell_type": "markdown",
   "metadata": {},
   "source": [
    "### Oppgave 2.18.2)\n",
    "Lag et program som skriver til fil 20 linjer som hver skal inneholde linjenummer til venstre, så 5 tilfeldig valgte tall mellom 0 og 200 oppgitt med 3 desimaler. Tallkolonnene skal være fint justerte."
   ]
  },
  {
   "cell_type": "code",
   "execution_count": null,
   "metadata": {},
   "outputs": [],
   "source": [
    "fil = open('oppg_skriverifil.txt', 'w') \n",
    "for antall in range(1,21):\n",
    "    linjer = []\n",
    "    for _ in range(5):\n",
    "        nummer = random.uniform(0,200)\n",
    "        nummer = float(\"%.2f\" % nummer)\n",
    "        linjer.append(nummer)\n",
    "    \n",
    "    fil.write(\"%i -  %s\"%(antall, linjer))\n",
    "fil.close()"
   ]
  },
  {
   "cell_type": "markdown",
   "metadata": {},
   "source": [
    "### Oppgave 2.19.1)\n",
    "Lag et program som leser inn informasjon om tre personer fra tastaturet. For hver person skal fornavn, etternavn, alder leses inn og legges i en dictionary. Hver persons dictionary legges så inn i en liste. Til slutt skal det loopes gjennom listen og informasjonen skrives ut."
   ]
  },
  {
   "cell_type": "code",
   "execution_count": null,
   "metadata": {},
   "outputs": [],
   "source": [
    "def is_exit(setning):\n",
    "    if(setning == \"exit\") or (setning == \"quit\"):\n",
    "        return True\n",
    "    else:\n",
    "        return False\n",
    "\n",
    "folkeinfo = []\n",
    "\n",
    "while True:\n",
    "    status = input(\"Skriv 'exit' for å avslutte, eller alt annet for å fortsette: \")\n",
    "    \n",
    "    if is_exit(status):\n",
    "        if len(folkeinfo) > 0:\n",
    "            for info in folkeinfo:\n",
    "                print(info)\n",
    "        break\n",
    "    \n",
    "    fornavn = input(\"Fornavn: \")\n",
    "    etternavn  = input(\"Etternavn: \")\n",
    "    alder = input(\"Alder: \")\n",
    "        \n",
    "    personinfo = {\"fornavn\":fornavn, \"etternavn\":etternavn, \"alder\":alder}\n",
    "    folkeinfo.append(personinfo)\n",
    "    \n",
    "print(folkeinfo)"
   ]
  },
  {
   "cell_type": "markdown",
   "metadata": {},
   "source": [
    "### Oppgave 2.19.2)\n",
    "Lag en dictionary dct1 som inneholder navn og alder (som ovenfor). Dictionary’en inneholder også en key ’annet’ som har annen dictionary som verdi. Denne dictionary’en har innhold ’hobby’:’lego’, ’mobiler’:4."
   ]
  },
  {
   "cell_type": "code",
   "execution_count": null,
   "metadata": {},
   "outputs": [],
   "source": [
    "dct1={\n",
    "    \"fornavn\":fornavn,\n",
    "    \"etternavn\":etternavn,\n",
    "    \"alder\":alder,\n",
    "    \"annet\":{\n",
    "        \"hobby\":\"lego\",\n",
    "        \"mobiler\":4            \n",
    "        }\n",
    "    }\n",
    "print(dct1)"
   ]
  },
  {
   "cell_type": "markdown",
   "metadata": {},
   "source": [
    "### Oppgave 2.20.1)\n",
    "Lag et program som trekker ti desimaltall mellom -10 og 10. For hvert tall skal kvadratroten regnes ut. For negative tall vil imidlertidig sqrt gi feilmelding, så skriv da i stedet ut melding om at kvadratroten ikke lar seg regne ut for dette tallet. Bruk try/except-konstruksjon til å gjennomføre. (NB: her kunne vi enkelt testet om tallet\n",
    "var negativt i stedet for å sette opp en try/except-konstruksjon.)"
   ]
  },
  {
   "cell_type": "code",
   "execution_count": null,
   "metadata": {},
   "outputs": [],
   "source": [
    "import math\n",
    "random_verdi = random.uniform(-10, 10)\n",
    "try:\n",
    "    kvadr = math.sqrt(random_value)\n",
    "    print(\"Kvadratroten til tallet %.4f er %.4f.\" % (random_verdi, kvadr))\n",
    "except:\n",
    "    print(\"Kvadratroten til tallet %.4f kan ikke regnes ut.\" % random_verdi)"
   ]
  },
  {
   "cell_type": "markdown",
   "metadata": {},
   "source": [
    "### Oppgave 3.2.1)\n",
    "Lag et array som går fra 0 til 10 (inkludert endepunktene). Steglengden (spacing) skal være 1 (dvs. [0, 1, 2, ..., 10])."
   ]
  },
  {
   "cell_type": "code",
   "execution_count": null,
   "metadata": {},
   "outputs": [],
   "source": [
    "import numpy\n",
    "arr1 = numpy.arange(0, 11, 1)\n",
    "print(arr1)"
   ]
  },
  {
   "cell_type": "markdown",
   "metadata": {},
   "source": [
    "### Oppgave 3.2.2)\n",
    "Lag et array som går fra 0 til 10 (inkludert endepunktene). Steglengden (spacing) skal være 0.2 (dvs. [0, 0.2, 0.4, ..., 9.8, 10])."
   ]
  },
  {
   "cell_type": "code",
   "execution_count": null,
   "metadata": {},
   "outputs": [],
   "source": [
    "import numpy\n",
    "arr2 = numpy.arange(0, 10.2, 0.2)\n",
    "print(arr2)"
   ]
  },
  {
   "cell_type": "markdown",
   "metadata": {},
   "source": [
    "### Oppgave 3.3.3)\n",
    "Sammenlign numpy.linspace(0,10,6) med numpy.linspace(0,10,5). Forstå forskjellen."
   ]
  },
  {
   "cell_type": "code",
   "execution_count": null,
   "metadata": {},
   "outputs": [],
   "source": [
    "import numpy\n",
    "len1 = len(numpy.linspace (0,10,6))\n",
    "len2 = len(numpy.linspace (0,10,5))\n",
    "print(\"Første lengde er %i and andre lengde er %i.\" % (len1, len2))"
   ]
  },
  {
   "cell_type": "markdown",
   "metadata": {},
   "source": [
    "### Oppgave 3.2.4)\n",
    "Lag et array med 10 tilfeldige desimaltall mellom 0 og 100 uten å bruke numpy’s egne random-funksjoner. Dvs. du må bruke random.uniform(0,100). Gjør så det samme ved hjelp av numpys randomfunksjoner (numpy.random.uniform)."
   ]
  },
  {
   "cell_type": "code",
   "execution_count": null,
   "metadata": {},
   "outputs": [],
   "source": [
    "randomtall = []\n",
    "\n",
    "# Uniform section:\n",
    "for antall in range(10):\n",
    "    nummer = random.uniform(0,100)\n",
    "    randomtall.append(nummer)\n",
    "print(randomtall)\n",
    "\n",
    "# Numpy section: \n",
    "import numpy\n",
    "randomtall = numpy.random.uniform(0,10,10)\n",
    "print(randomtall)"
   ]
  },
  {
   "cell_type": "markdown",
   "metadata": {},
   "source": [
    "### Oppgave 3.2.5)\n",
    "En bil starter fra ro (startfart lik 0) og har akselerasjon på 3 m/s2. Lag et program som for hvert sekund fra 0 til 10 sekunder regner ut farten til bilen og hvor langt den har gått, og skriver det ut til skjerm."
   ]
  },
  {
   "cell_type": "code",
   "execution_count": null,
   "metadata": {},
   "outputs": [],
   "source": [
    "start_tid = 0\n",
    "slutt_tid = 10\n",
    "a = 3\n",
    "tidsliste = range(start_tid, slutt_tid+1)\n",
    "\n",
    "for t in tidsliste:\n",
    "    v = a * t\n",
    "    s = 0.5 * a * t ** 2\n",
    "    print(\"dit: %i s fart: %.2f m/s strekning: %.2f m\"%(t, v, s))"
   ]
  },
  {
   "cell_type": "markdown",
   "metadata": {},
   "source": [
    "### Oppgave 3.3.1)\n",
    "Tegn grafen ``f(x) = x**3-x for -2 < x < 2``. Sett passende label på x- og y-aksen, og gi grafen en tittel. Tegn grafen både inline og i eget vindu (i to ulike kjøringer)."
   ]
  },
  {
   "cell_type": "code",
   "execution_count": null,
   "metadata": {},
   "outputs": [],
   "source": [
    "# Interactive er av\n",
    "import numpy\n",
    "import matplotlib.pyplot as plt\n",
    "x = numpy.linspace(-2,2,11)\n",
    "y = x ** 3-x\n",
    "plt.ioff() # interactive er av\n",
    "plt.xlabel('X')\n",
    "plt.ylabel('Y')\n",
    "plt.plot(x,y,'b*--')\n",
    "plt.show()\n",
    "\n",
    "# interactive er på (vil ikke vises i split window)\n",
    "import numpy\n",
    "import matplotlib.pyplot as plt\n",
    "x = numpy.linspace(-2,2,11)\n",
    "y = x ** 3-x\n",
    "plt.ion() # interactive er på\n",
    "plt.xlabel('X')\n",
    "plt.ylabel('Y')\n",
    "plt.plot(x,y,'b*--')\n",
    "plt.show()"
   ]
  },
  {
   "cell_type": "markdown",
   "metadata": {},
   "source": [
    "### Oppgave 4.2.1)\n",
    "Finn nullpunktene for funksjonen ``f = 3*x**3 + 82.5*x**2 - 640.5*x + 765 = 0``."
   ]
  },
  {
   "cell_type": "code",
   "execution_count": null,
   "metadata": {},
   "outputs": [],
   "source": [
    "from sympy import *\n",
    "x = Symbol('x')\n",
    "f = 3 * x ** 3 + 82.5 * x ** 2 - 640.5 * x + 765\n",
    "solve(f)"
   ]
  },
  {
   "cell_type": "markdown",
   "metadata": {},
   "source": [
    "### Oppgave 4.2.2)\n",
    "Finn x fra ligningen ``1/(x-a) = 2/(x+a)``."
   ]
  },
  {
   "cell_type": "code",
   "execution_count": null,
   "metadata": {},
   "outputs": [],
   "source": [
    "from sympy import *\n",
    "x = Symbol('x')\n",
    "a = Symbol('a')\n",
    "likning1 = 2* (x-a)\n",
    "likning2 =  (x + a)\n",
    "losning = likning1 - likning2\n",
    "solve(losning, x)"
   ]
  },
  {
   "cell_type": "markdown",
   "metadata": {},
   "source": [
    "### Oppgave 4.2.3)\n",
    "Løs likningssettet ``2x + a = x + y + 5 og 3x - y = 2a - 3`` med hensyn på x og y (forvariabel a). Finn også løsningene når a = 5."
   ]
  },
  {
   "cell_type": "code",
   "execution_count": null,
   "metadata": {},
   "outputs": [],
   "source": [
    "from sympy import *\n",
    "x = Symbol('x')\n",
    "y = Symbol('y')\n",
    "a = Symbol('a')\n",
    "likning1 = 2*x + a - x - y - 5\n",
    "likning2 = 3*x - y - 2*a - 3\n",
    "losning, = linsolve( [likning1, likning2], (x, y))\n",
    "x_losning, y_losning = losning\n",
    "print(\"x løsning er %s\" % x_losning)\n",
    "print(\"y løsning er %s\" % y_losning)\n",
    "\n",
    "x_verdi = x_losning.subs({\"a\":5})\n",
    "y_verdi = y_losning.subs({\"a\":5})\n",
    "print(\"x verdi er %s\" % x_verdi)\n",
    "print(\"y verdi er %s\" % y_verdi)"
   ]
  },
  {
   "cell_type": "markdown",
   "metadata": {},
   "source": [
    "### Det vil komme flere oppdaterte utgaver av dette løsningsforslaget i fremtiden! Mvh Sirajuddin"
   ]
  }
 ],
 "metadata": {
  "kernelspec": {
   "display_name": "Python 3",
   "language": "python",
   "name": "python3"
  },
  "language_info": {
   "codemirror_mode": {
    "name": "ipython",
    "version": 3
   },
   "file_extension": ".py",
   "mimetype": "text/x-python",
   "name": "python",
   "nbconvert_exporter": "python",
   "pygments_lexer": "ipython3",
   "version": "3.6.8"
  }
 },
 "nbformat": 4,
 "nbformat_minor": 2
}
